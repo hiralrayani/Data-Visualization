{
 "cells": [
  {
   "cell_type": "markdown",
   "metadata": {},
   "source": [
    "# PROJECT COMPONENT 3"
   ]
  },
  {
   "cell_type": "markdown",
   "metadata": {},
   "source": [
    "### Importing all the important libraries so that we dont need to call it again and again.\n",
    "### loading the file into UFO which contains information about different fields such date and location"
   ]
  },
  {
   "cell_type": "code",
   "execution_count": 1,
   "metadata": {
    "collapsed": true
   },
   "outputs": [],
   "source": [
    "import pandas as pd\n",
    "from bqplot import Tooltip,interacts\n",
    "from ipywidgets import interact\n",
    "import ipywidgets as widgets \n",
    "import bqplot\n",
    "import us\n",
    "\n",
    "\n",
    "names = [\"date\", \"city\", \"state\", \"country\", \"shape\", \"duration_seconds\",\n",
    "         \"duration_reported\", \"description\", \"report_date\", \"latitude\",\n",
    "         \"longitude\"]\n",
    "\n",
    "fn = \"/srv/nbgrader/data/ufo-scrubbed-geocoded-time-standardized.csv\"\n",
    "ufo = pd.read_csv(fn, names = names, parse_dates = [\"date\", \"report_date\"])\n",
    "\n",
    "abbr_to_fits = us.states.mapping('abbr', 'fips')\n",
    "ufo[\"fips\"] = ufo[\"state\"].apply(lambda a: int(abbr_to_fits.get(str(a).upper(), -1)))\n",
    "total_time = ufo.groupby(\"fips\")['duration_seconds'].sum()\n",
    "total_sightings = ufo.groupby(\"fips\")['report_date'].count()\n"
   ]
  },
  {
   "cell_type": "markdown",
   "metadata": {},
   "source": [
    "### Extracting the year so it can be used in a better way and renaming the columns earlier to have a better understanding"
   ]
  },
  {
   "cell_type": "code",
   "execution_count": 2,
   "metadata": {
    "collapsed": true
   },
   "outputs": [],
   "source": [
    "import matplotlib.pyplot as plt\n",
    "ufo['year'] = pd.DatetimeIndex(ufo['date']).year\n",
    "ufo.columns = [\"date\", \"city\", \"state\", \"country\", \"shape\", \"total_time\",\n",
    "         \"duration_reported\", \"description\", \"total_sightings\", \"latitude\",\n",
    "         \"longitude\",'fips','year']"
   ]
  },
  {
   "cell_type": "code",
   "execution_count": 3,
   "metadata": {
    "collapsed": true
   },
   "outputs": [],
   "source": [
    "df = pd.DataFrame([total_sightings,total_time])\n",
    "df = df.T\n",
    "df.columns = ['total_sightings','total_time']\n",
    "df =df[1:]"
   ]
  },
  {
   "cell_type": "markdown",
   "metadata": {},
   "source": [
    "### This function updates the scatter plot by using the year value, state id is the fip number and the  field if its either total_time and total_sightings"
   ]
  },
  {
   "cell_type": "code",
   "execution_count": 4,
   "metadata": {
    "collapsed": true
   },
   "outputs": [],
   "source": [
    "from bqplot import *\n",
    "\n",
    "def getPlot(year):  \n",
    "    \n",
    "    ufo_state =ufo[ufo['fips'] == state_id]\n",
    "    ufo_plot = ufo_state[ufo_state['year'] > year[0]]\n",
    "    \n",
    "    if(field1 == \"total_time\"):\n",
    "        value_counts = ufo_state.groupby([\"year\"])[\"total_time\"].sum()\n",
    "    else:\n",
    "        value_counts = ufo_state.groupby([\"year\"])[\"total_sightings\"].count()\n",
    "\n",
    "    wealth_scat.x = sorted(ufo_plot['year'].unique())\n",
    "    wealth_scat.y = value_counts\n",
    "    "
   ]
  },
  {
   "cell_type": "markdown",
   "metadata": {},
   "source": [
    "### This function restricts the interaction on the map to one state only, as we only want a single entity to be selected rather than a list of selected states"
   ]
  },
  {
   "cell_type": "code",
   "execution_count": 5,
   "metadata": {
    "collapsed": true
   },
   "outputs": [],
   "source": [
    "def observe_map(change):\n",
    "    global state_id\n",
    "\n",
    "\n",
    "    if len(change.new) > 1:\n",
    "        states_map.selected = [change.new[-1]]\n",
    "    elif len(change.new) == 1:\n",
    "    \n",
    "        state_id = states_map.selected[-1:]\n",
    "        ufo_state = ufo[ufo['fips'] == state_id[0]]\n",
    "\n",
    "       \n",
    "        \n",
    "        scatter_plot = interact(getPlot, year = widgets.IntRangeSlider(\n",
    "                    value=[ufo_state['year'].max() - 50,ufo_state['year'].max()],\n",
    "                    min=ufo_state['year'].min(),\n",
    "                    max=ufo_state['year'].max(),\n",
    "                    continuous_update=True,\n",
    "                    step=10,\n",
    "               ));\n",
    "        \n",
    "    \n",
    "    "
   ]
  },
  {
   "cell_type": "markdown",
   "metadata": {},
   "source": [
    "### This function creates the elegant map using bqplot and adds a tooltip while we hover on states and the observe function calls the observe_map and the selected state is passed to it"
   ]
  },
  {
   "cell_type": "code",
   "execution_count": 6,
   "metadata": {
    "collapsed": true
   },
   "outputs": [],
   "source": [
    "def make_plot(field):\n",
    "    global field1\n",
    "    field1=field\n",
    "    map_styles = {'scales': {'projection': bqplot.AlbersUSA(),\n",
    "                             'color': bqplot.ColorScale(colors=[\"orange\",\"red\", \"black\"])},\n",
    "                  'color': df[field].to_dict(),}\n",
    "    map_tt = Tooltip( fields = ['color','id','name']  ,labels = [field,'id','name'])\n",
    "    global states_map\n",
    "    states_map = bqplot.Map(map_data=bqplot.topo_load('map_data/USStatesMap.json'),**map_styles, interactions={'click': 'select','hover': 'tooltip'},selected_style={'stroke': 'navy'})\n",
    "    states_map.tooltip = map_tt\n",
    "    states_map.observe(observe_map, 'selected')\n",
    "    map_fig = bqplot.Figure(marks=[states_map], title='USA',height = 100, width = 100)\n",
    "    return map_fig"
   ]
  },
  {
   "cell_type": "markdown",
   "metadata": {},
   "source": [
    "### This code first creates an empty scatter plot which would be later updated whenevr the states are selected and also it calls the make_plot function so that the map could be plotted and then a series of function are called to make this interatcive"
   ]
  },
  {
   "cell_type": "code",
   "execution_count": 7,
   "metadata": {
    "scrolled": false
   },
   "outputs": [
    {
     "data": {
      "application/vnd.jupyter.widget-view+json": {
       "model_id": "3ba2b3f8710246e798f67f8258606aca",
       "version_major": 2,
       "version_minor": 0
      },
      "text/html": [
       "<p>Failed to display Jupyter Widget of type <code>interactive</code>.</p>\n",
       "<p>\n",
       "  If you're reading this message in the Jupyter Notebook or JupyterLab Notebook, it may mean\n",
       "  that the widgets JavaScript is still loading. If this message persists, it\n",
       "  likely means that the widgets JavaScript library is either not installed or\n",
       "  not enabled. See the <a href=\"https://ipywidgets.readthedocs.io/en/stable/user_install.html\">Jupyter\n",
       "  Widgets Documentation</a> for setup instructions.\n",
       "</p>\n",
       "<p>\n",
       "  If you're reading this message in another frontend (for example, a static\n",
       "  rendering on GitHub or <a href=\"https://nbviewer.jupyter.org/\">NBViewer</a>),\n",
       "  it may mean that your frontend doesn't currently support widgets.\n",
       "</p>\n"
      ],
      "text/plain": [
       "interactive(children=(Dropdown(description='field', options=('total_sightings', 'total_time'), value='total_sightings'), Output()), _dom_classes=('widget-interact',))"
      ]
     },
     "metadata": {},
     "output_type": "display_data"
    },
    {
     "data": {
      "application/vnd.jupyter.widget-view+json": {
       "model_id": "31d6e3d6dbaa4baaa1a076b9bd740348",
       "version_major": 2,
       "version_minor": 0
      },
      "text/html": [
       "<p>Failed to display Jupyter Widget of type <code>Figure</code>.</p>\n",
       "<p>\n",
       "  If you're reading this message in the Jupyter Notebook or JupyterLab Notebook, it may mean\n",
       "  that the widgets JavaScript is still loading. If this message persists, it\n",
       "  likely means that the widgets JavaScript library is either not installed or\n",
       "  not enabled. See the <a href=\"https://ipywidgets.readthedocs.io/en/stable/user_install.html\">Jupyter\n",
       "  Widgets Documentation</a> for setup instructions.\n",
       "</p>\n",
       "<p>\n",
       "  If you're reading this message in another frontend (for example, a static\n",
       "  rendering on GitHub or <a href=\"https://nbviewer.jupyter.org/\">NBViewer</a>),\n",
       "  it may mean that your frontend doesn't currently support widgets.\n",
       "</p>\n"
      ],
      "text/plain": [
       "Figure(axes=[Axis(label='Year', scale=LinearScale()), Axis(label='total', orientation='vertical', scale=LinearScale(), tick_format='0.2f')], fig_margin={'top': 60, 'bottom': 60, 'left': 60, 'right': 60}, layout=Layout(min_width='125px'), marks=[Lines(colors=['orange'], interactions={'hover': 'tooltip'}, scales={'x': LinearScale(), 'y': LinearScale()}, scales_metadata={'x': {'orientation': 'horizontal', 'dimension': 'x'}, 'y': {'orientation': 'vertical', 'dimension': 'y'}, 'color': {'dimension': 'color'}}, tooltip_style={'opacity': 0.9})], scale_x=LinearScale(allow_padding=False, max=1.0, min=0.0), scale_y=LinearScale(allow_padding=False, max=1.0, min=0.0), title='United States')"
      ]
     },
     "metadata": {},
     "output_type": "display_data"
    }
   ],
   "source": [
    "sc_x = LinearScale()\n",
    "sc_y = LinearScale()\n",
    "ax_x = Axis(label='Year', scale=sc_x)\n",
    "ax_y = Axis(label= 'total', scale=sc_y, orientation='vertical', tick_format='0.2f')\n",
    "wealth_scat = Lines(x=[], y=[], colors=['blue'],\n",
    "                      display_names=False,\n",
    "                      scales={'x': sc_x, 'y': sc_y},)\n",
    "wealth_scat.colors =[\"orange\"]\n",
    "\n",
    "fig = Figure(marks=[wealth_scat], axes=[ax_x, ax_y],\n",
    "             title='United States')\n",
    "\n",
    "%matplotlib inline\n",
    "map_fig = interact(make_plot,field = widgets.Dropdown(\n",
    "    options =[\"total_sightings\",\"total_time\"],\n",
    "    disabled=False,\n",
    "))\n",
    "fig\n",
    "\n",
    "    "
   ]
  },
  {
   "cell_type": "markdown",
   "metadata": {
    "collapsed": true
   },
   "source": [
    "## Approach "
   ]
  },
  {
   "cell_type": "markdown",
   "metadata": {
    "collapsed": true
   },
   "source": [
    "### Learnt from the component 1 mistake used same building block for making the plots. it was easier and compatible to use it. BQplot although does not have much information about it except on its github page which was later found to be useful, rest everything is explained in the cells"
   ]
  },
  {
   "cell_type": "markdown",
   "metadata": {
    "collapsed": true
   },
   "source": [
    "## Strength"
   ]
  },
  {
   "cell_type": "markdown",
   "metadata": {},
   "source": [
    "### Using BQplot for both the elements was a good choice as it does not act weird as they the elements are compatible with each other so even using ipywidgets it did not create problems, also the code is very readable and written by defining functions."
   ]
  },
  {
   "cell_type": "markdown",
   "metadata": {},
   "source": [
    "## Weakness"
   ]
  },
  {
   "cell_type": "markdown",
   "metadata": {},
   "source": [
    "### I would not call this a weakness but a funny story about this, initially i was getting multiple plots for yeartime i click on different state so if i clicked on 2 states i would get 2 plots. after wrecking my head on this for a while(3 days) i came to a point where there was just a single plot and it was updating on that BUT now multiple sliders started coming HAHA. \"I guess what goes around comes around \""
   ]
  },
  {
   "cell_type": "markdown",
   "metadata": {},
   "source": [
    "## What I wish I could do "
   ]
  },
  {
   "cell_type": "markdown",
   "metadata": {},
   "source": [
    "### First, normalizaion which we could not due to poor time management\n",
    "### Second, Try to figure out how to remove multiple slider( we did think on it alot but got nothing , nothing !!)\n",
    "### Third, a slight obervation in total time, even though it shows arkansas as the states with highest total time, there is a outlier point in the data and as we are taking sum it is will take it to the larger side of the spectrum. DO check it when you grade this, i couldnt show it much due to time constrains"
   ]
  },
  {
   "cell_type": "markdown",
   "metadata": {},
   "source": [
    "## End Remarks"
   ]
  },
  {
   "cell_type": "markdown",
   "metadata": {},
   "source": [
    "### Thank you to Prof Matthew Turk , TA Jerai Carter , friends, google and stackoverflow for all the help that youl provide to the almost successful completion of the project.\n",
    "### To compensate for not completing some features, do check our infographics\n",
    "### IT is said that the effort counts, haha :P"
   ]
  },
  {
   "cell_type": "code",
   "execution_count": null,
   "metadata": {
    "collapsed": true
   },
   "outputs": [],
   "source": []
  },
  {
   "cell_type": "code",
   "execution_count": null,
   "metadata": {
    "collapsed": true
   },
   "outputs": [],
   "source": []
  },
  {
   "cell_type": "code",
   "execution_count": null,
   "metadata": {
    "collapsed": true
   },
   "outputs": [],
   "source": []
  },
  {
   "cell_type": "code",
   "execution_count": null,
   "metadata": {
    "collapsed": true
   },
   "outputs": [],
   "source": []
  },
  {
   "cell_type": "code",
   "execution_count": null,
   "metadata": {
    "collapsed": true
   },
   "outputs": [],
   "source": []
  },
  {
   "cell_type": "code",
   "execution_count": null,
   "metadata": {
    "collapsed": true
   },
   "outputs": [],
   "source": []
  },
  {
   "cell_type": "code",
   "execution_count": null,
   "metadata": {
    "collapsed": true
   },
   "outputs": [],
   "source": []
  },
  {
   "cell_type": "code",
   "execution_count": null,
   "metadata": {
    "collapsed": true
   },
   "outputs": [],
   "source": []
  }
 ],
 "metadata": {
  "kernelspec": {
   "display_name": "Python 3",
   "language": "python",
   "name": "python3"
  },
  "language_info": {
   "codemirror_mode": {
    "name": "ipython",
    "version": 3
   },
   "file_extension": ".py",
   "mimetype": "text/x-python",
   "name": "python",
   "nbconvert_exporter": "python",
   "pygments_lexer": "ipython3",
   "version": "3.6.3"
  }
 },
 "nbformat": 4,
 "nbformat_minor": 2
}
